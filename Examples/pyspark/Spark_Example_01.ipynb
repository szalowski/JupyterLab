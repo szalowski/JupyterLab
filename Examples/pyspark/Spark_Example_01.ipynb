{
 "cells": [
  {
   "cell_type": "code",
   "execution_count": 4,
   "id": "b9a9ead6-b2f1-465c-866f-8846385a73bb",
   "metadata": {},
   "outputs": [],
   "source": [
    "import pyspark as spark\n",
    "sc = spark.SparkContext.getOrCreate()\n",
    "sc.setLogLevel(\"OFF\")"
   ]
  },
  {
   "cell_type": "code",
   "execution_count": 5,
   "id": "cfc6639d-2a6e-4399-b81e-fd8c300e16c5",
   "metadata": {},
   "outputs": [],
   "source": [
    "dfr = spark.sql.SparkSession.builder.getOrCreate().read"
   ]
  },
  {
   "cell_type": "markdown",
   "id": "f26ec97a-6a8b-4a87-af0c-9073b1ce452b",
   "metadata": {},
   "source": [
    "<h3>read file and list row count</h3>"
   ]
  },
  {
   "cell_type": "code",
   "execution_count": 6,
   "id": "bd62db75-9cce-44b5-946b-986e6e7af3fb",
   "metadata": {},
   "outputs": [
    {
     "data": {
      "text/plain": [
       "3"
      ]
     },
     "execution_count": 6,
     "metadata": {},
     "output_type": "execute_result"
    }
   ],
   "source": [
    "textData = dfr.text(\"README.md\")\n",
    "textData.count()"
   ]
  },
  {
   "cell_type": "code",
   "execution_count": null,
   "id": "67ba8e4d-f610-4fd3-9b16-137e94426450",
   "metadata": {},
   "outputs": [],
   "source": []
  }
 ],
 "metadata": {
  "kernelspec": {
   "display_name": "Python 3 (ipykernel)",
   "language": "python",
   "name": "python3"
  },
  "language_info": {
   "codemirror_mode": {
    "name": "ipython",
    "version": 3
   },
   "file_extension": ".py",
   "mimetype": "text/x-python",
   "name": "python",
   "nbconvert_exporter": "python",
   "pygments_lexer": "ipython3",
   "version": "3.9.6"
  }
 },
 "nbformat": 4,
 "nbformat_minor": 5
}
